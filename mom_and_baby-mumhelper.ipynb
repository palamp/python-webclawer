{
 "cells": [
  {
   "cell_type": "code",
   "execution_count": null,
   "metadata": {},
   "outputs": [],
   "source": [
    "! pip install requests beautifulsoup4 certifi pyopenssl urllib3 html5lib pandas tqdm sqlalchemy psycopg2"
   ]
  },
  {
   "cell_type": "code",
   "execution_count": null,
   "metadata": {},
   "outputs": [],
   "source": [
    "import requests\n",
    "from bs4 import BeautifulSoup\n",
    "from pandas import DataFrame\n",
    "from pandas import read_csv\n",
    "from datetime import datetime\n",
    "from tqdm import tqdm\n",
    "from sqlalchemy import create_engine, URL\n",
    "from urllib3.exceptions import InsecureRequestWarning\n",
    "from pathlib import Path\n",
    "import json\n",
    "requests.packages.urllib3.disable_warnings(category=InsecureRequestWarning)"
   ]
  },
  {
   "cell_type": "code",
   "execution_count": null,
   "metadata": {},
   "outputs": [],
   "source": [
    "article_list = [\n",
    "    (\"ดูแลลูกน้อย\", 53),\n",
    "    (\"สุขภาพลูกรัก\", 33),\n",
    "    (\"ประสบการณ์คุณแม่\", 32),\n",
    "    (\"ดูแลครรภ์มารดา\", 12),\n",
    "    (\"เตรียมตัวตั้งครรภ์\", 10),\n",
    "    (\"lifestyle-คุณแม่\", 3),\n",
    "    (\"คู่มือแม่ลูกอ่อน\", 15),\n",
    "    (\"คู่มือแม่ลูกอ่อน/พัฒนาการทารกวัย-1-6-เดือน\", 7),\n",
    "    (\"กินอิ่ม\", 18),\n",
    "    (\"นอนหลับ\", 10),\n",
    "    (\"รีวิวแม่และเด็ก\", 7),\n",
    "    (\"ลูกดารา\", 11),\n",
    "    (\"คำคมรักลูกนะ\", 7),\n",
    "    (\"เตรียมตัวตั้งครรภ์/อาหารคุณแม่ตั้งครรภ์\", 1),\n",
    "    (\"เตรียมตัวตั้งครรภ์/ตั้งครรภ์-40-สัปดาห์\", 6),\n",
    "    (\"เตรียมตัวตั้งครรภ์/สุขภาพคุณแม่ตั้งครรภ์\", 6),\n",
    "    (\"เตรียมตัวตั้งครรภ์/คุมกำเนิดหลังคลอด\", 1),\n",
    "    (\"การคลอด\", 4),\n",
    "    (\"คู่มือแม่ลูกอ่อน/พัฒนาการทารกวัย-6-12-เดือน\", 6),\n",
    "    (\"eq-ลูกรัก\", 2),\n",
    "    (\"คู่มือแม่ลูกอ่อน/พัฒนาการทารกวัย-1-6-เดือน\", 7),\n",
    "    (\"คู่มือแม่ลูกอ่อน/พัฒนาการทารกวัย-12-18-เดือน\", 3),\n",
    "    (\"คู่มือแม่ลูกอ่อน/พัฒนาการทารกวัย-2-3-ขวบ\", 2),\n",
    "    (\"พัฒนาการเด็กโต\", 1),\n",
    "    (\"สุขภาพลูกรัก/โรคในเด็ก\", 11),\n",
    "    (\"สุขภาพลูกรัก/การป้องกันโรค\", 24),\n",
    "    (\"เมนูลูกรัก/เมนูลูกรัก-วัย-6-9-เดือน\", 23),\n",
    "    (\"เมนูลูกรัก/เมนูลูกรัก-วัย-9-12-เดือน\", 8),\n",
    "    (\"เมนูลูกรัก/เมนูลูกรัก-วัย-12-18-เดือน\", 1),\n",
    "    (\"เมนูลูกรัก/เมนูลูกรัก-วัย-2-ขวบ\", 1),\n",
    "    (\"เมนูลูกรัก/เมนูเด็กโต\", 2),\n",
    "    (\"โรงเรียนลูก\", 1),\n",
    "]\n"
   ]
  },
  {
   "cell_type": "code",
   "execution_count": null,
   "metadata": {},
   "outputs": [],
   "source": [
    "article = []\n",
    "for cat, max in article_list:\n",
    "    for i in tqdm(range(1, max+1), desc=cat):\n",
    "        data = requests.get(f\"https://mumhelper.com/category/{cat}/page/{i}/\", verify=False)\n",
    "        soup = BeautifulSoup(data.content, \"html5lib\")\n",
    "        for ar in soup(\"article\"):\n",
    "            article.append(ar.a[\"href\"])\n"
   ]
  },
  {
   "cell_type": "code",
   "execution_count": null,
   "metadata": {},
   "outputs": [],
   "source": [
    "with open(\"Mom_and_Baby.txt\", \"w\") as f:\n",
    "    for a in set(article):\n",
    "        f.write(f\"{a}\\n\")"
   ]
  },
  {
   "attachments": {},
   "cell_type": "markdown",
   "metadata": {},
   "source": [
    "---------"
   ]
  },
  {
   "cell_type": "code",
   "execution_count": null,
   "metadata": {},
   "outputs": [],
   "source": [
    "with open(\"Mom_and_Baby.txt\", \"r\") as f:\n",
    "    article = list(map(str.strip, f.readlines()))"
   ]
  },
  {
   "cell_type": "code",
   "execution_count": null,
   "metadata": {},
   "outputs": [],
   "source": [
    "db_data = {}\n",
    "filename = \"Mom_and_Baby_{i}.csv\"\n",
    "\n",
    "for i, url in tqdm(enumerate(article), total=len(article)):\n",
    "    if i%100 == 0 and len(db_data) >= 100:\n",
    "        df = DataFrame(db_data).transpose()\n",
    "        df.to_csv(filename.format(i))\n",
    "        db_data = {}\n",
    "\n",
    "    try:\n",
    "        data = requests.get(url, verify=False)\n",
    "        soup = BeautifulSoup(data.content, \"html5lib\")\n",
    "\n",
    "        paragraph = []\n",
    "        for p in soup.find(\"div\", {\"class\": \"entry-content\"})(\"p\"):\n",
    "            text = p.text.replace(\"\\xa0\", \" \")\n",
    "            if len(text) < 150:\n",
    "                continue\n",
    "            paragraph.append(text)\n",
    "    \n",
    "        db_data[url] = {\n",
    "                \"url\": url,\n",
    "                \"category\": \"Mom & Baby\",\n",
    "                \"title\": soup.title.string,\n",
    "                \"content\": None,\n",
    "                \"paragraphs\": json.dumps(paragraph, ensure_ascii=False),\n",
    "                \"raw_html\": soup,\n",
    "                \"raw_json\": None,\n",
    "                \"remark\": None,\n",
    "                \"created_at\": datetime.now(),\n",
    "            }\n",
    "    except Exception as e:\n",
    "        print(f\"Exception on {url} by {e.args}\")\n",
    "\n",
    "df = DataFrame(db_data).transpose()\n",
    "df.to_csv(filename.format(i+1))\n"
   ]
  },
  {
   "cell_type": "code",
   "execution_count": null,
   "metadata": {},
   "outputs": [],
   "source": [
    "engine = create_engine()"
   ]
  },
  {
   "cell_type": "code",
   "execution_count": null,
   "metadata": {},
   "outputs": [],
   "source": [
    "list_path = list(Path(\".\").glob(\"Mom_and_Baby_*.csv\"))\n",
    "for path in tqdm(list_path):\n",
    "    df = read_csv(path)\n",
    "    df.drop(columns=[\"Unnamed: 0\"], inplace=True)\n",
    "    df.to_sql(\"article_raw_data\", engine, index=False, if_exists='append', method=\"multi\")"
   ]
  },
  {
   "cell_type": "code",
   "execution_count": null,
   "metadata": {},
   "outputs": [],
   "source": []
  }
 ],
 "metadata": {
  "kernelspec": {
   "display_name": "Python 3",
   "language": "python",
   "name": "python3"
  },
  "language_info": {
   "codemirror_mode": {
    "name": "ipython",
    "version": 3
   },
   "file_extension": ".py",
   "mimetype": "text/x-python",
   "name": "python",
   "nbconvert_exporter": "python",
   "pygments_lexer": "ipython3",
   "version": "3.10.9"
  },
  "orig_nbformat": 4
 },
 "nbformat": 4,
 "nbformat_minor": 2
}
