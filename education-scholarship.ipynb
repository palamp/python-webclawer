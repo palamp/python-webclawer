{
 "cells": [
  {
   "cell_type": "code",
   "execution_count": null,
   "metadata": {},
   "outputs": [],
   "source": [
    "! pip install requests beautifulsoup4 certifi pyopenssl urllib3 html5lib pandas tqdm sqlalchemy psycopg2"
   ]
  },
  {
   "cell_type": "code",
   "execution_count": null,
   "metadata": {},
   "outputs": [],
   "source": [
    "import requests\n",
    "from bs4 import BeautifulSoup\n",
    "from pandas import DataFrame\n",
    "from pandas import read_csv\n",
    "from datetime import datetime\n",
    "from tqdm import tqdm\n",
    "from sqlalchemy import create_engine, URL\n",
    "from pathlib import Path\n",
    "import json"
   ]
  },
  {
   "cell_type": "code",
   "execution_count": null,
   "metadata": {},
   "outputs": [],
   "source": [
    "article = []\n",
    "for i in range(1,455):\n",
    "    data = requests.get(f\"https://www.scholarship.in.th/category/news-update/page/{i}/\")\n",
    "    soup = BeautifulSoup(data.content, \"html5lib\")\n",
    "    for ar in soup.find_all(\"div\", {\"class\": \"td_module_10 td_module_wrap td-animation-stack\"}):\n",
    "        href = ar.a[\"href\"]\n",
    "        article.append(href)"
   ]
  },
  {
   "cell_type": "code",
   "execution_count": null,
   "metadata": {},
   "outputs": [],
   "source": [
    "with open(\"scholarship.txt\", \"w\") as f:\n",
    "    for a in set(article):\n",
    "        f.write(f\"{a}\\n\")"
   ]
  },
  {
   "attachments": {},
   "cell_type": "markdown",
   "metadata": {},
   "source": [
    "---------"
   ]
  },
  {
   "cell_type": "code",
   "execution_count": null,
   "metadata": {},
   "outputs": [],
   "source": [
    "with open(\"scholarship.txt\", \"r\") as f:\n",
    "    article = list(map(str.strip, f.readlines()))"
   ]
  },
  {
   "cell_type": "code",
   "execution_count": null,
   "metadata": {},
   "outputs": [],
   "source": [
    "db_data = {}\n",
    "filename = \"scholarship_{i}.csv\"\n",
    "for i, url in tqdm(enumerate(article), total=len(article)):\n",
    "    if i<9000:\n",
    "        continue\n",
    "    if i%100 == 0 and len(db_data) > 0:\n",
    "        df = DataFrame(db_data).transpose()\n",
    "        df.to_csv(filename.format(i))\n",
    "        db_data = {}\n",
    "        \n",
    "    try:\n",
    "        data = requests.get(url)\n",
    "        soup = BeautifulSoup(data.content, \"html5lib\")\n",
    "\n",
    "        paragraph = []\n",
    "        for p in soup.find(\"div\", {\"class\": \"td-post-content\"})(\"p\"):\n",
    "            if \"script\" in [c.name for c in  p.findChildren()]:\n",
    "                continue\n",
    "            text = p.text.replace(\"\\xa0\", \" \")\n",
    "            if len(text) < 150:\n",
    "                continue\n",
    "            paragraph.append(text)\n",
    "\n",
    "        db_data[url] = {\n",
    "                \"url\": url,\n",
    "                \"category\": \"Education\",\n",
    "                \"title\": soup.title.string,\n",
    "                \"content\": None,\n",
    "                \"paragraphs\": json.dumps(paragraph, ensure_ascii=False),\n",
    "                \"raw_html\": data.text,\n",
    "                \"raw_json\": None,\n",
    "                \"remark\": None,\n",
    "                \"created_at\": datetime.now(),\n",
    "            }\n",
    "    except Exception as e:\n",
    "        print(f\"Exception on {url} by {e.args}\")\n",
    "\n",
    "df = DataFrame(db_data).transpose()\n",
    "df.to_csv(filename.format(i+1))\n"
   ]
  },
  {
   "cell_type": "code",
   "execution_count": null,
   "metadata": {},
   "outputs": [],
   "source": [
    "engine = create_engine()"
   ]
  },
  {
   "cell_type": "code",
   "execution_count": null,
   "metadata": {},
   "outputs": [],
   "source": [
    "list_path = list(Path(\".\").glob(\"scholarship_*.csv\"))\n",
    "for path in tqdm(list_path):\n",
    "    df = read_csv(path)\n",
    "    df.drop(columns=[\"Unnamed: 0\"], inplace=True)\n",
    "    df.to_sql(\"article_raw_data\", engine, index=False, if_exists='append', method=\"multi\")"
   ]
  },
  {
   "cell_type": "code",
   "execution_count": null,
   "metadata": {},
   "outputs": [],
   "source": []
  }
 ],
 "metadata": {
  "kernelspec": {
   "display_name": "Python 3",
   "language": "python",
   "name": "python3"
  },
  "language_info": {
   "codemirror_mode": {
    "name": "ipython",
    "version": 3
   },
   "file_extension": ".py",
   "mimetype": "text/x-python",
   "name": "python",
   "nbconvert_exporter": "python",
   "pygments_lexer": "ipython3",
   "version": "3.10.9"
  },
  "orig_nbformat": 4
 },
 "nbformat": 4,
 "nbformat_minor": 2
}
