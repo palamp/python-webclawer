{
 "cells": [
  {
   "cell_type": "code",
   "execution_count": null,
   "metadata": {},
   "outputs": [],
   "source": [
    "! pip install requests beautifulsoup4 certifi pyopenssl urllib3 html5lib pandas tqdm sqlalchemy psycopg2"
   ]
  },
  {
   "cell_type": "code",
   "execution_count": null,
   "metadata": {},
   "outputs": [],
   "source": [
    "import requests\n",
    "from bs4 import BeautifulSoup\n",
    "from pandas import DataFrame\n",
    "from pandas import read_csv\n",
    "from datetime import datetime\n",
    "from tqdm import tqdm\n",
    "from sqlalchemy import create_engine, URL\n",
    "import json\n",
    "from pathlib import Path\n"
   ]
  },
  {
   "cell_type": "code",
   "execution_count": null,
   "metadata": {},
   "outputs": [],
   "source": [
    "categort_list = [\n",
    "    (\"category/game-news\", 1668),\n",
    "    (\"category/articles\", 119),\n",
    "    (\"tag/รีวิวเกม\", 112),\n",
    "    (\"tag/ข่าวไอที\", 15),\n",
    "    (\"tag/เกมออนไลน์\", 1471),\n",
    "    (\"tag/เกมมือถือน่าเล่น\", 12),\n",
    "    (\"tag/เกมมือถือ\", 870),\n",
    "    (\"tag/เกมเปิดใหม่\", 67),\n",
    "    (\"tag/เกมออนไลน์-2022\", 189),\n",
    "    (\"tag/เกม-pc\", 78),\n",
    "]\n"
   ]
  },
  {
   "cell_type": "code",
   "execution_count": null,
   "metadata": {},
   "outputs": [],
   "source": [
    "article = []\n",
    "for cat, max in categort_list:\n",
    "    for i in tqdm(range(1, max + 1), desc=cat):\n",
    "        data = requests.get(f\"https://www.gamemonday.com/{cat}/page/{i}\")\n",
    "        soup = BeautifulSoup(data.content, \"html5lib\")\n",
    "        for ar in soup.find_all(\"article\"):\n",
    "            href = ar.figure.a[\"href\"]\n",
    "            if \"articles\" in href:\n",
    "                article.append(href)\n"
   ]
  },
  {
   "cell_type": "code",
   "execution_count": null,
   "metadata": {},
   "outputs": [],
   "source": [
    "with open(\"game.txt\", \"w\") as f:\n",
    "    for a in set(article):\n",
    "        f.write(f\"{a}\\n\")\n"
   ]
  },
  {
   "attachments": {},
   "cell_type": "markdown",
   "metadata": {},
   "source": [
    "---------"
   ]
  },
  {
   "cell_type": "code",
   "execution_count": null,
   "metadata": {},
   "outputs": [],
   "source": [
    "with open(\"game.txt\", \"r\") as f:\n",
    "    article = list(map(str.strip, f.readlines()))\n"
   ]
  },
  {
   "cell_type": "code",
   "execution_count": null,
   "metadata": {},
   "outputs": [],
   "source": [
    "db_data = {}\n",
    "filename = \"game_{i}.csv\"\n",
    "\n",
    "for i, url in tqdm(enumerate(article), total=len(article)):\n",
    "    if i % 100 == 0 and len(db_data) >= 100:\n",
    "        df = DataFrame(db_data).transpose()\n",
    "        df.to_csv(filename.format(i))\n",
    "        db_data = {}\n",
    "\n",
    "    data = requests.get(url)\n",
    "    soup = BeautifulSoup(data.content, \"html5lib\")\n",
    "    try:\n",
    "        paragraph = []\n",
    "        for p in soup.find(\"div\", {\"class\": \"entry-content mb-4\"})(\"p\"):\n",
    "            text = p.text.replace(\"\\xa0\", \" \")\n",
    "            if len(text) < 150:\n",
    "                continue\n",
    "            paragraph.append(text)\n",
    "\n",
    "        db_data[url] = {\n",
    "            \"url\": url,\n",
    "            \"category\": \"Game\",\n",
    "            \"title\": soup.title.string,\n",
    "            \"content\": None,\n",
    "            \"paragraphs\": json.dumps(paragraph, ensure_ascii=False),\n",
    "            \"raw_html\": data.text,\n",
    "            \"raw_json\": None,\n",
    "            \"remark\": None,\n",
    "            \"created_at\": datetime.now(),\n",
    "        }\n",
    "    except Exception as e:\n",
    "        print(f\"Exception on {url} by {e.args}\")\n",
    "\n",
    "df = DataFrame(db_data).transpose()\n",
    "df.to_csv(filename.format(i+1))\n"
   ]
  },
  {
   "attachments": {},
   "cell_type": "markdown",
   "metadata": {},
   "source": [
    "---"
   ]
  },
  {
   "cell_type": "code",
   "execution_count": null,
   "metadata": {},
   "outputs": [],
   "source": [
    "engine = create_engine()\n"
   ]
  },
  {
   "cell_type": "code",
   "execution_count": null,
   "metadata": {},
   "outputs": [],
   "source": [
    "list_path = list(Path(\".\").glob(\"game_*.csv\"))\n",
    "for path in tqdm(list_path):\n",
    "    df = read_csv(path)\n",
    "    df.drop(columns=[\"Unnamed: 0\"], inplace=True)\n",
    "    df.to_sql(\"article_raw_data\", engine, index=False, if_exists=\"append\", method=\"multi\")\n"
   ]
  }
 ],
 "metadata": {
  "kernelspec": {
   "display_name": "Python 3",
   "language": "python",
   "name": "python3"
  },
  "language_info": {
   "codemirror_mode": {
    "name": "ipython",
    "version": 3
   },
   "file_extension": ".py",
   "mimetype": "text/x-python",
   "name": "python",
   "nbconvert_exporter": "python",
   "pygments_lexer": "ipython3",
   "version": "3.10.9"
  },
  "orig_nbformat": 4
 },
 "nbformat": 4,
 "nbformat_minor": 2
}
