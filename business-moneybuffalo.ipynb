{
 "cells": [
  {
   "cell_type": "code",
   "execution_count": null,
   "metadata": {},
   "outputs": [],
   "source": [
    "! pip install requests beautifulsoup4 certifi pyopenssl urllib3 html5lib pandas tqdm sqlalchemy psycopg2"
   ]
  },
  {
   "cell_type": "code",
   "execution_count": null,
   "metadata": {},
   "outputs": [],
   "source": [
    "import requests\n",
    "from bs4 import BeautifulSoup\n",
    "from pandas import DataFrame\n",
    "from pandas import read_csv\n",
    "from pandas import concat as pd_concat\n",
    "from datetime import datetime\n",
    "from tqdm import tqdm\n",
    "from sqlalchemy import create_engine, URL\n",
    "import json\n",
    "from pathlib import Path\n"
   ]
  },
  {
   "cell_type": "code",
   "execution_count": null,
   "metadata": {},
   "outputs": [],
   "source": [
    "categort_list = [\n",
    "    (\"stock\", 453, 306),\n",
    "    (\"mutual-fund\", 454, 206),\n",
    "    (\"debt\", 455, 111),\n",
    "    (\"insurance\", 456, 88),\n",
    "    (\"tax\", 457, 54),\n",
    "    (\"financial-planning\", 458, 172),\n",
    "    (\"real-estate\", 464, 101),\n",
    "    (\"saving-tips\", 459, 212),\n",
    "    (\"business\", 465, 630),\n",
    "    (\"economy\", 3075, 252),\n",
    "    (\"history\", 3418, 49),\n",
    "    (\"cryptocurrency\", 2989, 132),\n",
    "    (\"money-horo\", 1634, 34),\n",
    "    (\"trading-in-30-days\", 2871, 30),\n",
    "    (\"stock-summary\", 3028, 37),\n",
    "    (\"vocabulary\", 2116, 68),\n",
    "]\n",
    "post_headers = {\n",
    "    \"authority\": \"www.moneybuffalo.in.th\",\n",
    "    \"accept\": \"*/*\",\n",
    "    \"accept-language\": \"en-US,en;q=0.9\",\n",
    "    \"content-type\": \"application/x-www-form-urlencoded; charset=UTF-8\",\n",
    "    \"origin\": \"https://www.moneybuffalo.in.th\",\n",
    "    \"referer\": f\"https://www.moneybuffalo.in.th/category/stock\",\n",
    "    \"sec-ch-ua\": '\"Chromium\";v=\"110\", \"Not A(Brand\";v=\"24\", \"Google Chrome\";v=\"110\"',\n",
    "    \"sec-ch-ua-mobile\": \"?0\",\n",
    "    \"sec-ch-ua-platform\": '\"macOS\"',\n",
    "    \"sec-fetch-dest\": \"empty\",\n",
    "    \"sec-fetch-mode\": \"cors\",\n",
    "    \"sec-fetch-site\": \"same-origin\",\n",
    "    \"user-agent\": \"Mozilla/5.0 (Macintosh; Intel Mac OS X 10_15_7) AppleWebKit/537.36 (KHTML, like Gecko) Chrome/110.0.0.0 Safari/537.36\",\n",
    "    \"x-requested-with\": \"XMLHttpRequest\",\n",
    "}\n"
   ]
  },
  {
   "cell_type": "code",
   "execution_count": null,
   "metadata": {},
   "outputs": [],
   "source": [
    "article = []\n",
    "post = 10\n",
    "\n",
    "for category, cat, all_posts in categort_list:\n",
    "    for paged in tqdm(range(1, all_posts // post + 2), desc=category):\n",
    "        post_data = f\"action=kyoto_entries&pagination_index=0&post_type=post&post_taxonomy=category&post_tag=post_tag&index=0&style=plain&layout=list&name=index&no_of_items=10&list_thumbnail_size=medium&thumbnail_position=right&relatedpost=false&related_by=category&order_by=post_date&order=desc&query_offset=&exclude_id=&no_of_columns=3&no_of_columns_tl=default&no_of_columns_mb=default&spacing=80&inner_spacing_x=0&inner_spacing_y=0&separator=true&refine=0&refine_key=&refine_size=14&refine_font=secondary&filter=0&filter_type=taxonomy&filter_key=&filter_style=standard&filter_alignment=left&filter_size=14&filter_font=secondary&filter_sorting=default&filter_disable_all=false&filter_initial=&pagination=true&pagination_style=click&no_of_scrolls=1&partly_preview=false&navigation=true&indicator=true&loop=true&fade=false&adaptive_height=false&autoplay=false&autoplay_speed=5000&center_mode=false&center_padding=&variable_width=false&carousel_height=&thumbnail=false&thumbnail_columns=5&thumbnail_columns_tl=4&thumbnail_columns_mb=3&empty_message_title=Post&empty_message_subtitle=Post+is+now+empty.&post_not_in=&type=kyt-custompost&query_args%5Bcategory_name%5D={category}&query_args%5Berror%5D=&query_args%5Bm%5D=&query_args%5Bp%5D=0&query_args%5Bpost_parent%5D=&query_args%5Bsubpost%5D=&query_args%5Bsubpost_id%5D=&query_args%5Battachment%5D=&query_args%5Battachment_id%5D=0&query_args%5Bname%5D=&query_args%5Bpagename%5D=&query_args%5Bpage_id%5D=0&query_args%5Bsecond%5D=&query_args%5Bminute%5D=&query_args%5Bhour%5D=&query_args%5Bday%5D=0&query_args%5Bmonthnum%5D=0&query_args%5Byear%5D=0&query_args%5Bw%5D=0&query_args%5Btag%5D=&query_args%5Bcat%5D={cat}&query_args%5Btag_id%5D=&query_args%5Bauthor%5D=&query_args%5Bauthor_name%5D=&query_args%5Bfeed%5D=&query_args%5Btb%5D=&query_args%5Bpaged%5D={paged}&query_args%5Bmeta_key%5D=&query_args%5Bmeta_value%5D=&query_args%5Bpreview%5D=&query_args%5Bs%5D=&query_args%5Bsentence%5D=&query_args%5Btitle%5D=&query_args%5Bfields%5D=&query_args%5Bmenu_order%5D=&query_args%5Bembed%5D=&query_args%5Bignore_sticky_posts%5D=false&query_args%5Bsuppress_filters%5D=false&query_args%5Bcache_results%5D=true&query_args%5Bupdate_post_term_cache%5D=true&query_args%5Blazy_load_term_meta%5D=true&query_args%5Bupdate_post_meta_cache%5D=true&query_args%5Bpost_type%5D=&query_args%5Bposts_per_page%5D={post}&query_args%5Bnopaging%5D=false&query_args%5Bcomments_per_page%5D=50&query_args%5Bno_found_rows%5D=false&query_args%5Border%5D=DESC&query_args%5Btax_query%5D%5B0%5D%5Btaxonomy%5D=category&query_args%5Btax_query%5D%5B0%5D%5Bterms%5D%5B%5D={category}&query_args%5Btax_query%5D%5B0%5D%5Bfield%5D=slug&query_args%5Btax_query%5D%5B0%5D%5Boperator%5D=IN&query_args%5Btax_query%5D%5B0%5D%5Binclude_children%5D=true&components%5B%5D=media&components%5B%5D=author&components%5B%5D=title&components%5B%5D=date&featured_media=auto&image_size=large&image_ratio=auto&image_lazy_load=1&image_change=1&image_hover=none&vertical_align=middle&alignment=left&overlay_size=full&category_position=above&category_style=plain&overlap=0&border=false&box_shadow=0&hover_shadow=0&content_min_height=&content_hover=none&overlay_hover=none&entry_color_scheme=default&background_color=default&background_opacity=100&preview_background_color=default&preview_background_opacity=100&excerpt_content=excerpt&excerpt_length=&more_style=plain&more_hover_style=plain&more_icon=arrow-bold-right&more_icon_position=before&more_message=Read+More&entry_link=post&link_new_tab=0&title_uppercase=0&title_size=32&title_font=secondary&title_letter_spacing=0&excerpt_size=14&excerpt_font=primary&excerpt_letter_spacing=&excerpt_line_height=&cat_uppercase=0&cat_size=11&cat_font=secondary&cat_letter_spacing=&meta_uppercase=0&meta_size=11&meta_font=primary&meta_letter_spacing=&class%5B%5D=kyt-item&class%5B%5D=js-item-custompost&class%5B%5D=kyt-custompost&class%5B%5D=kyt-custompost--plain&class%5B%5D=kyt-entries+kyt-entries--list+kyt-entries--plain&class%5B%5D=medium&class%5B%5D=right&class%5B%5D=with-separator&id%5B%5D=entries-index&data_attr%5Bstyle%5D=plain&data_attr%5Blayout%5D=list&thumbnail_attr%5Bclass%5D=kyt-entries-thumbnail&thumbnail_attr%5Bstyle_attr%5D%5Bmargin%5D=0&thumbnail_attr%5Bdata_attr%5D%5Bdisplay%5D=5&thumbnail_attr%5Bdata_attr%5D%5Bscroll%5D=1&thumbnail_attr%5Bdata_attr%5D%5Bdisplay-tl%5D=4&thumbnail_attr%5Bdata_attr%5D%5Bdisplay-mb%5D=3&thumbnail_attr%5Bdata_attr%5D%5Bloop%5D=true&thumbnail_entry_class=kyt-thumbnail-entry+kyt-col-1-5+kyt-col-tl-3+kyt-col-mb-4&filter_args%5Bfilter_type%5D=taxonomy&filter_args%5Bfilter_key%5D=category&filter_args%5Bfilter_sorting%5D=default&filter_args%5Bfilter_style%5D=standard&filter_args%5Bfilter_alignment%5D=left&filter_args%5Bfilter_font%5D=secondary&filter_args%5Bfilter_size%5D=14&filter_args%5Bfilter_initial%5D=&filter_args%5Bfilter_disable_all%5D=false&content_attr%5Bclass%5D=kyt-entries-content&css_id=&pagination_attr%5Bclass%5D=kyt-pagination++js-load-more+kyt-pagination--click+kyt-button+kyt-button-size--medium+kyt-button--full&all_posts={all_posts}\"\n",
    "        data = requests.post(\n",
    "            \"https://www.moneybuffalo.in.th/wp/wp-admin/admin-ajax.php\",\n",
    "            data=post_data,\n",
    "            headers=post_headers,\n",
    "        )\n",
    "        data_json = data.json()\n",
    "        if data_json == 0:\n",
    "            print(f\"issue on category: {category} on page {paged}\")\n",
    "            continue\n",
    "        soup = BeautifulSoup(data.json()[\"data\"][\"result\"][\"content\"], \"html5lib\")\n",
    "        for ar in soup(\"a\"):\n",
    "            article.append(ar[\"href\"])\n"
   ]
  },
  {
   "cell_type": "code",
   "execution_count": null,
   "metadata": {},
   "outputs": [],
   "source": [
    "with open(\"business.txt\", \"w\") as f:\n",
    "    for a in set(article):\n",
    "        f.write(f\"{a}\\n\")\n"
   ]
  },
  {
   "attachments": {},
   "cell_type": "markdown",
   "metadata": {},
   "source": [
    "---------"
   ]
  },
  {
   "cell_type": "code",
   "execution_count": null,
   "metadata": {},
   "outputs": [],
   "source": [
    "with open(\"business.txt\", \"r\") as f:\n",
    "    article = list(map(str.strip, f.readlines()))\n"
   ]
  },
  {
   "cell_type": "code",
   "execution_count": null,
   "metadata": {},
   "outputs": [],
   "source": [
    "def text_handler(section):\n",
    "    paragraph = []\n",
    "    for p in section:\n",
    "        text = p.text.replace(\"\\xa0\", \" \")\n",
    "        if len(text) < 150:\n",
    "            continue\n",
    "        paragraph.append(text)\n",
    "    return paragraph\n",
    "\n",
    "def get_paragraph(soup):\n",
    "    paragraph = []\n",
    "    bref_box = soup.find(\"div\", {\"class\": \"mb-brief-box\"})\n",
    "    if bref_box:\n",
    "        paragraph += text_handler(bref_box(\"li\"))\n",
    "    paragraph += text_handler(soup.find(\"div\", {\"class\": \"kyt-post-content\"})(\"p\"))\n",
    "    return paragraph"
   ]
  },
  {
   "cell_type": "code",
   "execution_count": null,
   "metadata": {},
   "outputs": [],
   "source": [
    "def crawler(url):\n",
    "    data = requests.get(url)\n",
    "    soup = BeautifulSoup(data.content, \"html5lib\")\n",
    "\n",
    "    if soup.find(\"main\", {\"class\": \"kyt-404-page\"}):\n",
    "        raise ValueError(\"404 article not found\")\n",
    "\n",
    "    title = soup.find(\n",
    "        \"h1\", {\"class\": \"kyt-heading-text kyt-secondary-font kyt-s-text-border kyt-s-text-color\"}\n",
    "    ).text\n",
    "    paragraph = get_paragraph(soup)\n",
    "    return title, paragraph, data.text\n"
   ]
  },
  {
   "cell_type": "code",
   "execution_count": null,
   "metadata": {},
   "outputs": [],
   "source": [
    "df = pd_concat([read_csv(path) for path in Path(\".\").glob(\"business_*.csv\")], ignore_index=True)\n",
    "df.drop(columns=[\"Unnamed: 0\"], inplace=True)\n",
    "existing_url = set(df[\"url\"].to_list())\n"
   ]
  },
  {
   "cell_type": "code",
   "execution_count": null,
   "metadata": {},
   "outputs": [],
   "source": [
    "db_data = {}\n",
    "drop_bar = tqdm(desc=\"drop article\", position=1)\n",
    "filename = \"business_round6_{i}.csv\"\n",
    "\n",
    "for i, url in tqdm(enumerate(article), total=len(article), desc=\"article\", position=0):\n",
    "    if url in existing_url:\n",
    "        continue\n",
    "\n",
    "    if i % 100 == 0 and len(db_data) >= 100:\n",
    "        df = DataFrame(db_data).transpose()\n",
    "        df.to_csv(filename.format(i))\n",
    "        db_data = {}\n",
    "\n",
    "\n",
    "    try:\n",
    "        title, paragraph, raw_html = crawler(url)\n",
    "        db_data[url] = {\n",
    "            \"url\": url,\n",
    "            \"category\": \"Business\",\n",
    "            \"title\": title,\n",
    "            \"content\": None,\n",
    "            \"paragraphs\": json.dumps(paragraph, ensure_ascii=False),\n",
    "            \"raw_html\": raw_html,\n",
    "            \"raw_json\": None,\n",
    "            \"remark\": None,\n",
    "            \"created_at\": datetime.now(),\n",
    "        }\n",
    "    except Exception as e:\n",
    "        print(f\"Exception on {url} by {e.args}\")\n",
    "        drop_bar.update(1)\n",
    "\n",
    "drop_bar.close()\n",
    "df = DataFrame(db_data).transpose()\n",
    "df.to_csv(filename.format(i+1))\n"
   ]
  },
  {
   "attachments": {},
   "cell_type": "markdown",
   "metadata": {},
   "source": [
    "---"
   ]
  },
  {
   "cell_type": "code",
   "execution_count": null,
   "metadata": {},
   "outputs": [],
   "source": [
    "engine = create_engine()"
   ]
  },
  {
   "cell_type": "code",
   "execution_count": null,
   "metadata": {},
   "outputs": [],
   "source": [
    "df = pd_concat([read_csv(path) for path in Path(\".\").glob(\"business_*.csv\")], ignore_index=True)\n",
    "df.drop(columns=[\"Unnamed: 0\"], inplace=True)\n",
    "df.set_index(\"url\", inplace=True)\n",
    "df = df[~df.index.duplicated(keep=\"first\")]\n",
    "df.reset_index(inplace=True)"
   ]
  },
  {
   "cell_type": "code",
   "execution_count": null,
   "metadata": {},
   "outputs": [],
   "source": [
    "df.to_sql(\"article_raw_data\", engine, index=False, if_exists=\"append\", method=\"multi\", chunksize=100)"
   ]
  },
  {
   "cell_type": "code",
   "execution_count": null,
   "metadata": {},
   "outputs": [],
   "source": []
  }
 ],
 "metadata": {
  "kernelspec": {
   "display_name": "Python 3",
   "language": "python",
   "name": "python3"
  },
  "language_info": {
   "codemirror_mode": {
    "name": "ipython",
    "version": 3
   },
   "file_extension": ".py",
   "mimetype": "text/x-python",
   "name": "python",
   "nbconvert_exporter": "python",
   "pygments_lexer": "ipython3",
   "version": "3.10.9"
  },
  "orig_nbformat": 4
 },
 "nbformat": 4,
 "nbformat_minor": 2
}
